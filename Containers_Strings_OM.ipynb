{
  "nbformat": 4,
  "nbformat_minor": 0,
  "metadata": {
    "colab": {
      "provenance": []
    },
    "kernelspec": {
      "name": "python3",
      "display_name": "Python 3"
    },
    "language_info": {
      "name": "python"
    }
  },
  "cells": [
    {
      "cell_type": "markdown",
      "source": [
        "## **1) From the below list print only the word 'python' using indexing**"
      ],
      "metadata": {
        "id": "6G0w2IvPfFyz"
      }
    },
    {
      "cell_type": "code",
      "source": [
        "list1 = [1,2,[3,4],[5,[100,200,['python']],23,11],1,7]"
      ],
      "metadata": {
        "id": "EfizMcP4fJVA"
      },
      "execution_count": null,
      "outputs": []
    },
    {
      "cell_type": "code",
      "source": [
        "#solution here\n",
        "list1[3][1][2][0]"
      ],
      "metadata": {
        "colab": {
          "base_uri": "https://localhost:8080/",
          "height": 36
        },
        "id": "1XBwZed7fLj8",
        "outputId": "3d111a6b-869e-49f8-8bcf-9eb773eb6b66"
      },
      "execution_count": null,
      "outputs": [
        {
          "output_type": "execute_result",
          "data": {
            "text/plain": [
              "'python'"
            ],
            "application/vnd.google.colaboratory.intrinsic+json": {
              "type": "string"
            }
          },
          "metadata": {},
          "execution_count": 4
        }
      ]
    },
    {
      "cell_type": "markdown",
      "source": [
        "## **2) Ask the user to input a list of integers seperated by a space and perform the below steps**"
      ],
      "metadata": {
        "id": "8T2szLXwfO7K"
      }
    },
    {
      "cell_type": "code",
      "execution_count": null,
      "metadata": {
        "colab": {
          "base_uri": "https://localhost:8080/"
        },
        "id": "ioMaerZEcQF5",
        "outputId": "cba6e50e-2cf1-4de7-fab6-57c5f9075f43"
      },
      "outputs": [
        {
          "name": "stdout",
          "output_type": "stream",
          "text": [
            "1 2 3 4 5 6 \n"
          ]
        }
      ],
      "source": [
        "# Step 0: Input values from user into list called nums\n",
        "nums = [int(n) for n in input().split()]"
      ]
    },
    {
      "cell_type": "code",
      "source": [
        "# Step 1: Find minimum and maximum values\n",
        "minimum = nums[0]\n",
        "maximum = nums[0]\n",
        "for i in range(len(nums)):\n",
        "    if nums[i] < minimum:\n",
        "        minimum = nums[i]\n",
        "    if nums[i] > maximum:\n",
        "        maximum = nums[i]\n",
        "\n",
        "print(f'Minimum: { minimum }')\n",
        "print(f'Maximum: { maximum }')"
      ],
      "metadata": {
        "colab": {
          "base_uri": "https://localhost:8080/"
        },
        "id": "wCNlnWvxcScS",
        "outputId": "46370cbb-d763-4ee3-9824-b68159ae7566"
      },
      "execution_count": null,
      "outputs": [
        {
          "output_type": "stream",
          "name": "stdout",
          "text": [
            "Minimum: 1\n",
            "Maximum: 6\n"
          ]
        }
      ]
    },
    {
      "cell_type": "code",
      "source": [
        "# Step 2: Calculate mean\n",
        "total = 0\n",
        "for i in range(len(nums)):\n",
        "    total += nums[i]\n",
        "\n",
        "mean = total / len(nums)\n",
        "print(f\"Mean: {mean:.1f}\")"
      ],
      "metadata": {
        "colab": {
          "base_uri": "https://localhost:8080/"
        },
        "id": "JWc1Jf8XcZha",
        "outputId": "d35c4049-b38c-464e-c7c5-172ca59b7619"
      },
      "execution_count": null,
      "outputs": [
        {
          "output_type": "stream",
          "name": "stdout",
          "text": [
            "Mean: 3.5\n"
          ]
        }
      ]
    },
    {
      "cell_type": "code",
      "source": [
        "# Step 4: Find and output median\n",
        "\n",
        "# Sort list elements in ascending order\n",
        "nums.sort()\n",
        "\n",
        "length = len(nums)\n",
        "\n",
        "if length % 2 == 0:\n",
        "   median = (nums[length // 2] + nums[(length // 2) - 1]) / 2.0 \n",
        "else:\n",
        "   median = nums[length // 2]\n",
        "\n",
        "print(f\"Median: {median:.1f}\")\n"
      ],
      "metadata": {
        "colab": {
          "base_uri": "https://localhost:8080/"
        },
        "id": "eaFe2i1NcbkN",
        "outputId": "e2617e68-57a6-4299-c315-f697897da14a"
      },
      "execution_count": null,
      "outputs": [
        {
          "output_type": "stream",
          "name": "stdout",
          "text": [
            "Median: 3.5\n"
          ]
        }
      ]
    },
    {
      "cell_type": "code",
      "source": [],
      "metadata": {
        "id": "yPAtjORDclQw"
      },
      "execution_count": null,
      "outputs": []
    },
    {
      "cell_type": "markdown",
      "metadata": {
        "id": "pJszw8XMcr8F"
      },
      "source": [
        "### **3) Make a dictionary of frequency of the words from the below string, select words that have 4 or more letters in it .** \n",
        "- Key of the dictionary should be word and value should be the number of times that word has appeared in the paragraph, sort the dictionary in descending order and print the results in a formatted table.\n",
        "\n",
        "```Python\n",
        "text = '''The goal is to turn data into information and information into insight . \n",
        "You can have data without information but you cannot have information without data .'''\n",
        "\n",
        "```\n"
      ]
    },
    {
      "cell_type": "code",
      "source": [
        "def word_freq(text):\n",
        "    word_counts =   {}\n",
        "\n",
        "    # Count occurrences of each unique word\n",
        "    for word in [word for word in text.split() if len(word)>=4]:\n",
        "        if word in word_counts:\n",
        "            word_counts[word]   += 1  # Update existing key-value pair\n",
        "        else:\n",
        "            word_counts[word]   = 1  # Insert new key-value pair\n",
        "\n",
        "    # Sort the dictionary\n",
        "    sorted_dict_freq = dict(sorted(word_counts.items(), key=lambda x: x[1], reverse=True))\n",
        "    return sorted_dict_freq\n",
        "\n",
        "def main():\n",
        "    text = '''The goal is to turn data into information and information into insight . \n",
        "    You can have data without information but you cannot have information without data.'''\n",
        "\n",
        "    text_dict_freq = word_freq(text)\n",
        "    # Display the results\n",
        "    print(f'{\"Word:\":^12} {\"Frequency:\":^12}' )\n",
        "    print(\"-\"*24)\n",
        "    for word, count in   text_dict_freq.items():\n",
        "        print(f'{word:^12}{count:^12}')\n",
        "\n",
        "\n",
        "\n",
        "# Call the main function.\n",
        "if __name__ == '__main__':\n",
        "    main()\n"
      ],
      "metadata": {
        "colab": {
          "base_uri": "https://localhost:8080/"
        },
        "id": "HaCBej5xEbnb",
        "outputId": "dbc82046-c67a-45d3-d55e-91bead90e8ce"
      },
      "execution_count": null,
      "outputs": [
        {
          "output_type": "stream",
          "name": "stdout",
          "text": [
            "   Word:      Frequency: \n",
            "------------------------\n",
            "information      4      \n",
            "    data         2      \n",
            "    into         2      \n",
            "    have         2      \n",
            "  without        2      \n",
            "    goal         1      \n",
            "    turn         1      \n",
            "  insight        1      \n",
            "   cannot        1      \n",
            "   data.         1      \n"
          ]
        }
      ]
    },
    {
      "cell_type": "code",
      "source": [],
      "metadata": {
        "id": "cuL-SmALE5d9"
      },
      "execution_count": null,
      "outputs": []
    },
    {
      "cell_type": "markdown",
      "source": [
        "### **4)** Write a program that let the user enter a course number, then it should display the course’s room number, instructor, and meeting time.\n",
        "- Creates a dictionary **rooms** containing course numbers and the room numbers of the rooms where the courses meet. The dictionary should have the following key-value pairs:\n",
        "\n",
        "<center>\n",
        "\n",
        "\n",
        "|Course Number (key)\t|Room Number (value)\n",
        "| ----------- | ----------- |\n",
        "|CS101\t|3004|\n",
        "|CS102\t|4501|\n",
        "|CS103\t|6755|\n",
        "|NT110\t|1244|\n",
        "|CM241\t|1411|\n",
        "\n",
        "</center>\n",
        "\n",
        "- The program should also create a dictionary **instructors** containing course numbers and the names of the instructors that teach each course. The dictionary should have the following key-value pairs:\n",
        "\n",
        "<center>\n",
        "\n",
        "|Course Number (key)\t|Instructor (value)\n",
        "| ----------- | ----------- |\n",
        "|CS101\t|Haynes\n",
        "|CS102\t|Alvarado\n",
        "|CS103\t|Rich\n",
        "|NT110\t|Burke\n",
        "|CM241\t|Lee\n",
        "\n",
        "</center>\n",
        "\n",
        "- The program should also create a dictionary **times** containing course numbers and the meeting times of each course. The dictionary should have the following key-value pairs:\n",
        "\n",
        "<center>\n",
        "\n",
        "|Course Number (key)\t|Meeting Time (value)\n",
        "| ----------- | ----------- |\n",
        "|CS101\t|8:00 a.m.\n",
        "|CS102\t|9:00 a.m.\n",
        "|CS103\t|10:00 a.m.\n",
        "|NT110\t|11:00 a.m.\n",
        "|CM241\t|1:00 p.m.\n",
        "\n",
        "</center>\n"
      ],
      "metadata": {
        "id": "M-gxdnIYl4VH"
      }
    },
    {
      "cell_type": "code",
      "source": [
        "def main():\n",
        "    # Initialize dictionaries\n",
        "    rooms = {'CS101':3004, 'CS102':4501, 'CS103':6755,\n",
        "             'NT110':1244, 'CM241':1411}\n",
        "\n",
        "    instructors = {'CS101':'Haynes', 'CS102':'Alvarado',\n",
        "                   'CS103':'Rich', 'NT110':'Burke',\n",
        "                   'CM241':'Lee'}\n",
        "\n",
        "    times = {'CS101':'8:00 am', 'CS102':'9:00 am',\n",
        "             'CS103':'10:00 am', 'NT110':'11:00 am',\n",
        "             'CM241':'12:00 pm'}\n",
        "\n",
        "    course = input('Enter a course number: ')\n",
        "\n",
        "    if course not in rooms:\n",
        "        print(f'{course} is an invalid course number.')\n",
        "    else:\n",
        "        print(f'The details for course {course} are:')\n",
        "        print(f'Room: {rooms[course]}')\n",
        "        print(f'Instructor: {instructors[course]}')\n",
        "        print(f'Time: {times[course]}')\n",
        "\n",
        "# Call the main function.\n",
        "if __name__ == '__main__':\n",
        "    main()"
      ],
      "metadata": {
        "colab": {
          "base_uri": "https://localhost:8080/"
        },
        "id": "LF7pz-uvlY73",
        "outputId": "991bb521-4684-441e-f488-a72e33fb9c58"
      },
      "execution_count": null,
      "outputs": [
        {
          "output_type": "stream",
          "name": "stdout",
          "text": [
            "Enter a course number: CS101\n",
            "The details for course CS101 are:\n",
            "Room: 3004\n",
            "Instructor: Haynes\n",
            "Time: 8:00 am\n"
          ]
        }
      ]
    },
    {
      "cell_type": "markdown",
      "source": [],
      "metadata": {
        "id": "fYSBW781_P5C"
      }
    },
    {
      "cell_type": "markdown",
      "metadata": {
        "id": "WexGbtoZUUc6"
      },
      "source": [
        "### 5. Use the below `product_inventory` string to create three lists for `product_lists`, `price_list`, and `count_list`. Each line of the string represent three fields separated by comma : *__quantity, product_name, price__*:\n",
        "\n",
        "*Hint: Use for loop to traverse the lines and assign each seperated field to the proper list.*"
      ]
    },
    {
      "cell_type": "code",
      "source": [
        "product_inventory = \"\"\"\n",
        "30, apple, 0.60\n",
        "40, banana, 0.20\n",
        "20, grapefruit, 0.75\n",
        "100, grapes, 1.99\n",
        "49, kiwi, 0.50\n",
        "30, lemon, 0.20\n",
        "30, lime, 0.25\n",
        "50, mango, 1.50\n",
        "40, papaya, 2.95\n",
        "50, pineapple, 5.50\n",
        "60, blueberries, 2.99\n",
        "10, blackberries, 2.50\n",
        "50, peach, 0.50\n",
        "40, plum, 0.33\n",
        "40, clementine, 0.25\n",
        "20, cantaloupe, 3.25\n",
        "40, pear, 1.25\n",
        "50, quince, 0.45\n",
        "40, orange, 0.60\n",
        "\"\"\""
      ],
      "metadata": {
        "id": "9XGclK5kmy78"
      },
      "execution_count": null,
      "outputs": []
    },
    {
      "cell_type": "code",
      "metadata": {
        "id": "tkE1O5JXbT-M"
      },
      "source": [
        "product_list = []\n",
        "price_list = []\n",
        "count_list = []\n",
        "\n",
        "for item in product_inventory.strip().split('\\n'):\n",
        "    count, product, price = item.split(\",\")\n",
        "    count_list.append(int(count))\n",
        "    product_list.append(product)\n",
        "    price_list.append(float(price))"
      ],
      "execution_count": null,
      "outputs": []
    },
    {
      "cell_type": "markdown",
      "metadata": {
        "id": "DIJo8CkRUUc7"
      },
      "source": [
        "#### a. Store the product names in a list `product_list`  then sort and display the list.\n"
      ]
    },
    {
      "cell_type": "code",
      "metadata": {
        "id": "lV6NgPowUUc7",
        "colab": {
          "base_uri": "https://localhost:8080/"
        },
        "outputId": "040b0239-5a27-4b70-b2df-4dc9579c5475"
      },
      "source": [
        "#solution here\n",
        "sorted(product_list)"
      ],
      "execution_count": null,
      "outputs": [
        {
          "output_type": "execute_result",
          "data": {
            "text/plain": [
              "[' apple',\n",
              " ' banana',\n",
              " ' blackberries',\n",
              " ' blueberries',\n",
              " ' cantaloupe',\n",
              " ' clementine',\n",
              " ' grapefruit',\n",
              " ' grapes',\n",
              " ' kiwi',\n",
              " ' lemon',\n",
              " ' lime',\n",
              " ' mango',\n",
              " ' orange',\n",
              " ' papaya',\n",
              " ' peach',\n",
              " ' pear',\n",
              " ' pineapple',\n",
              " ' plum',\n",
              " ' quince']"
            ]
          },
          "metadata": {},
          "execution_count": 28
        }
      ]
    },
    {
      "cell_type": "markdown",
      "metadata": {
        "id": "xt5exLYmUUc7"
      },
      "source": [
        "#### b. Display the average, min and max cost for all the products."
      ]
    },
    {
      "cell_type": "code",
      "metadata": {
        "id": "DxMRcElHUUc8",
        "colab": {
          "base_uri": "https://localhost:8080/"
        },
        "outputId": "388f5522-06b3-4ede-f49d-7d887f4cacb2"
      },
      "source": [
        "#solution here\n",
        "print(\"Min price:\", min(price_list))"
      ],
      "execution_count": null,
      "outputs": [
        {
          "output_type": "stream",
          "name": "stdout",
          "text": [
            "Min price: 0.2\n"
          ]
        }
      ]
    },
    {
      "cell_type": "code",
      "metadata": {
        "colab": {
          "base_uri": "https://localhost:8080/"
        },
        "id": "ggeBJIA3bfvl",
        "outputId": "602c0009-2494-4328-e603-a1a2e02b8738"
      },
      "source": [
        "print(\"Max price:\", max(price_list))"
      ],
      "execution_count": null,
      "outputs": [
        {
          "output_type": "stream",
          "name": "stdout",
          "text": [
            "Max price: 5.5\n"
          ]
        }
      ]
    },
    {
      "cell_type": "code",
      "metadata": {
        "colab": {
          "base_uri": "https://localhost:8080/"
        },
        "id": "A-gnZr_obfla",
        "outputId": "db3c5fd1-7012-4311-d4cb-745b69021efa"
      },
      "source": [
        "average = sum(price_list) / len(price_list) \n",
        "print(f'Average price: {average:.1f}')"
      ],
      "execution_count": null,
      "outputs": [
        {
          "output_type": "stream",
          "name": "stdout",
          "text": [
            "Average price: 1.4\n"
          ]
        }
      ]
    },
    {
      "cell_type": "markdown",
      "metadata": {
        "id": "k3jvzHQeUUc8"
      },
      "source": [
        "#### c. Display the total count of the products quantities."
      ]
    },
    {
      "cell_type": "code",
      "metadata": {
        "id": "IvcFIpN3UUc8",
        "colab": {
          "base_uri": "https://localhost:8080/"
        },
        "outputId": "5fe75617-0c26-4043-de5e-8341ff86e050"
      },
      "source": [
        "#solution here\n",
        "print(f\"Total count of products is: {sum(count_list)}\")"
      ],
      "execution_count": null,
      "outputs": [
        {
          "output_type": "stream",
          "name": "stdout",
          "text": [
            "Total count of products is: 789\n"
          ]
        }
      ]
    },
    {
      "cell_type": "code",
      "source": [],
      "metadata": {
        "id": "mJCI5CWlbq5m"
      },
      "execution_count": null,
      "outputs": []
    }
  ]
}